{
 "cells": [
  {
   "cell_type": "markdown",
   "id": "536f968f",
   "metadata": {},
   "source": [
    "## Imports"
   ]
  },
  {
   "cell_type": "code",
   "execution_count": 815,
   "id": "823734d9",
   "metadata": {},
   "outputs": [],
   "source": [
    "import yfinance as yf\n",
    "import pandas as pd  \n",
    "import plotly.graph_objects as go\n",
    "from dash import Dash, dcc, html, Input, Output, State\n",
    "from datetime import datetime, date, timedelta\n",
    "import os\n",
    "import json"
   ]
  },
  {
   "cell_type": "markdown",
   "id": "65f2143f",
   "metadata": {},
   "source": [
    "## Get names of all tickers "
   ]
  },
  {
   "cell_type": "code",
   "execution_count": 816,
   "id": "5b46a7bf",
   "metadata": {},
   "outputs": [],
   "source": [
    "with open(\"company_tickers.json\", mode=\"r\") as ticker_file:\n",
    "    file_contents = ticker_file.read()\n",
    "stocks_json = json.loads(file_contents)"
   ]
  },
  {
   "cell_type": "markdown",
   "id": "e3780f0c",
   "metadata": {},
   "source": [
    "# Set up and define app layout"
   ]
  },
  {
   "cell_type": "code",
   "execution_count": 817,
   "id": "e158e7a0",
   "metadata": {},
   "outputs": [],
   "source": [
    "external_stylesheets = [\"https://stackpath.bootstrapcdn.com/bootstrap/4.5.2/css/bootstrap.min.css\"]\n",
    "app = Dash(__name__, external_stylesheets=external_stylesheets)"
   ]
  },
  {
   "cell_type": "markdown",
   "id": "b4df1c37",
   "metadata": {},
   "source": [
    "# Header"
   ]
  },
  {
   "cell_type": "code",
   "execution_count": 818,
   "id": "396e2b37",
   "metadata": {},
   "outputs": [],
   "source": [
    "header = html.H1(\"My Stocks\", style={\"display\": \"flex\", \"justify-content\": \"center\"})"
   ]
  },
  {
   "cell_type": "markdown",
   "id": "98925188",
   "metadata": {},
   "source": [
    "# Select date\n"
   ]
  },
  {
   "cell_type": "code",
   "execution_count": 819,
   "id": "45c2b24e",
   "metadata": {},
   "outputs": [],
   "source": [
    "today = date.today() \n",
    "monday = today - timedelta(days=today.weekday()) \n",
    "friday = monday + timedelta(days=4)  \n",
    "weekends = [dt for dt in pd.date_range(date(1900, 1, 1), date.today()) if dt.weekday() >= 5]\n",
    "\n",
    "date_selector = html.Div([\n",
    "    dcc.DatePickerRange(\n",
    "        id=\"date-selector\",\n",
    "        min_date_allowed =date(1900, 1, 1),\n",
    "        max_date_allowed =today,\n",
    "        start_date=monday,\n",
    "        end_date=friday,\n",
    "        initial_visible_month=today,\n",
    "        display_format = \"MM-DD-YYYY\",\n",
    "        disabled_days = weekends\n",
    "    ),\n",
    "    html.Div(id=\"date-selector-output\")\n",
    "])"
   ]
  },
  {
   "cell_type": "code",
   "execution_count": 820,
   "id": "028d89f8",
   "metadata": {},
   "outputs": [],
   "source": [
    "@app.callback(  \n",
    "    Output(\"date-selector-output\", \"children\"),\n",
    "    Input(\"date-selector\", \"start_date\"),\n",
    "    Input(\"date-selector\", \"end_date\")\n",
    ") \n",
    "def update_time(start_date, end_date): \n",
    "    if start_date and end_date:\n",
    "        if start_date == end_date:\n",
    "            return \"Start date and End date have to be different!\"\n",
    "        return \n",
    "    return \"Please select a date to proceed!\""
   ]
  },
  {
   "cell_type": "markdown",
   "id": "d217de86",
   "metadata": {},
   "source": [
    "## Select Interval"
   ]
  },
  {
   "cell_type": "code",
   "execution_count": 821,
   "id": "2129b685",
   "metadata": {},
   "outputs": [],
   "source": [
    "interval_selector = html.Div([\n",
    "    dcc.RadioItems(\n",
    "        id=\"interval-selector\",\n",
    "        options = [],\n",
    "        value=\"1m\",\n",
    "        style={\"padding\": \"10px\"}\n",
    "    ),\n",
    "    html.Div(id=\"interval-selector-output\")\n",
    "],\n",
    "style={\n",
    "    \"padding\": \"10px\",\n",
    "    \"border\": \"1px solid #ccc\",\n",
    "    \"border-radius\": \"5px\",\n",
    "    \"display\": \"flex\",\n",
    "    \"justify-content\": \"space-between\",\n",
    "    \"width\": \"81%\"\n",
    "})"
   ]
  },
  {
   "cell_type": "code",
   "execution_count": 822,
   "id": "17b8f7f9",
   "metadata": {},
   "outputs": [],
   "source": [
    "# Define default options for intervals\n",
    "INTERVAL_OPTIONS = [\n",
    "    {\"label\": \"1 minute\", \"value\": \"1m\"},\n",
    "    {\"label\": \"2 minutes\", \"value\": \"2m\"},\n",
    "    {\"label\": \"5 minutes\", \"value\": \"5m\"},\n",
    "    {\"label\": \"15 minutes\", \"value\": \"15m\"},\n",
    "    {\"label\": \"30 minutes\", \"value\": \"30m\"},\n",
    "    {\"label\": \"60 minutes\", \"value\": \"60m\"},\n",
    "    {\"label\": \"90 minutes\", \"value\": \"90m\"},\n",
    "    {\"label\": \"1 day\", \"value\": \"1d\"},\n",
    "    {\"label\": \"5 days\", \"value\": \"5d\"},\n",
    "    {\"label\": \"1 week\", \"value\": \"1wk\"},\n",
    "    {\"label\": \"1 month\", \"value\": \"1mo\"},\n",
    "    {\"label\": \"3 months\", \"value\": \"3mo\"}\n",
    "]\n",
    "\n",
    "# Define interval filters based on timeframe and yfinance data provision\n",
    "INTERVAL_FILTERS = {\n",
    "    (1, 1): [\"1m\", \"2m\", \"5m\", \"15m\", \"30m\", \"60m\", \"90m\"],\n",
    "    (2, 5): [\"1m\", \"2m\", \"5m\", \"15m\", \"30m\", \"60m\", \"90m\", \"1d\"],\n",
    "    (6, 7): [\"1m\", \"2m\", \"5m\", \"15m\", \"30m\", \"60m\", \"90m\", \"1d\"],\n",
    "    (8, 30): [\"2m\", \"5m\", \"15m\", \"30m\", \"60m\", \"90m\", \"1d\", \"5d\", \"1wk\"],\n",
    "    (31, 60): [\"2m\", \"5m\", \"15m\", \"30m\", \"60m\", \"90m\", \"1d\", \"5d\", \"1wk\", \"1mo\"],\n",
    "    (61, 90): [\"1d\", \"5d\", \"1wk\", \"1mo\"],\n",
    "    (91, float('inf')): [\"1d\", \"5d\", \"1wk\", \"1mo\", \"3mo\"]\n",
    "}\n",
    "\n",
    "def filter_intervals(timeframe):\n",
    "    for (lower, upper), values in INTERVAL_FILTERS.items():\n",
    "        if lower <= timeframe <= upper:\n",
    "            return [opt for opt in INTERVAL_OPTIONS if opt[\"value\"] in values]\n",
    "    return []\n",
    "\n",
    "@app.callback(\n",
    "    Output(\"interval-selector-output\", \"children\"),\n",
    "    Output(\"interval-selector\", \"options\"),\n",
    "    Output(\"interval-selector\", \"value\"),\n",
    "    Input(\"date-selector\", \"start_date\"),\n",
    "    Input(\"date-selector\", \"end_date\")\n",
    ")\n",
    "def update_interval(start_date, end_date):\n",
    "    if not start_date or not end_date:\n",
    "        return \"Please select both start and end dates\", [], None\n",
    "\n",
    "    start_date_dt = datetime.strptime(start_date, \"%Y-%m-%d\")\n",
    "    end_date_dt = datetime.strptime(end_date, \"%Y-%m-%d\")\n",
    "    timeframe = (end_date_dt - start_date_dt).days\n",
    "    options = filter_intervals(timeframe)\n",
    "    default_value = options[0][\"value\"] if options else None\n",
    "\n",
    "    return \"\", options, default_value"
   ]
  },
  {
   "cell_type": "markdown",
   "id": "907c92c6",
   "metadata": {},
   "source": [
    "## Selector indicator"
   ]
  },
  {
   "cell_type": "code",
   "execution_count": 823,
   "id": "e7b590e6",
   "metadata": {},
   "outputs": [],
   "source": [
    "indicator_selector = html.Div([\n",
    "    dcc.RadioItems(\n",
    "        id=\"indicator-selector\",\n",
    "        options=[\n",
    "            {\"label\": \"Open\", \"value\": \"Open\"},\n",
    "            {\"label\": \"High\", \"value\": \"High\"},\n",
    "            {\"label\": \"Low\", \"value\": \"Low\"},\n",
    "            {\"label\": \"Close\", \"value\": \"Close\"},\n",
    "            {\"label\": \"Adjusted Close\", \"value\": \"Adj Close\"},\n",
    "            {\"label\": \"Volume\", \"value\": \"Volume\"}\n",
    "        ],\n",
    "        value=\"Close\", # Default\n",
    "    ),\n",
    "    html.Div(id=\"indicator-selector-output\")\n",
    "],\n",
    "style={\n",
    "    \"padding\": \"10px\",\n",
    "    \"border\": \"1px solid #ccc\",\n",
    "    \"border-radius\": \"5px\",\n",
    "    \"display\": \"flex\",\n",
    "    \"width\": \"81%\"\n",
    "})"
   ]
  },
  {
   "cell_type": "code",
   "execution_count": 824,
   "id": "2f579d4f",
   "metadata": {},
   "outputs": [],
   "source": [
    "@app.callback(  \n",
    "    Output(\"indicator-selector-output\", \"children\"),\n",
    "    Input(\"indicator-selector\", \"value\"),\n",
    ") \n",
    "def update_indicator(indicator): \n",
    "    if indicator:\n",
    "        return \n",
    "    return \"Please select an indicator to proceed!\""
   ]
  },
  {
   "cell_type": "markdown",
   "id": "0396621c",
   "metadata": {},
   "source": [
    "## Selector stock"
   ]
  },
  {
   "cell_type": "code",
   "execution_count": 825,
   "id": "e2ab4c9e",
   "metadata": {},
   "outputs": [],
   "source": [
    "options = [\n",
    "    {\"label\": stock[\"title\"], \"value\": stock[\"ticker\"]}\n",
    "    for stock in list(stocks_json.values())\n",
    "]\n",
    "\n",
    "stock_selector = html.Div([\n",
    "    dcc.Dropdown(\n",
    "        id=\"stock-selector\",\n",
    "        options=options,\n",
    "        multi=True,\n",
    "        searchable=True,\n",
    "        clearable=True,\n",
    "        placeholder=\"Select a stock\",\n",
    "        style = {\"width\": \"90%\"}\n",
    "    ),\n",
    "    html.Button(\"Submit\", id=\"submit-button\", n_clicks=0, className=\"btn btn-primary mt-3\"),\n",
    "    html.Div(id=\"stock-selector-output\")\n",
    "])"
   ]
  },
  {
   "cell_type": "markdown",
   "id": "01a2c427",
   "metadata": {},
   "source": [
    "## Download data for selected data in the selected timeframe, and plot candlestick charts of the data in accordance to the selected ticker."
   ]
  },
  {
   "cell_type": "code",
   "execution_count": 826,
   "id": "aa72559c",
   "metadata": {},
   "outputs": [],
   "source": [
    "@app.callback(  \n",
    "    Output(\"stock-selector-output\", \"children\"),\n",
    "    Input(\"stock-selector\", \"value\"),\n",
    "    Input(\"indicator-selector\", \"value\"),\n",
    "    Input(\"interval-selector\", \"value\"),\n",
    "    Input(\"submit-button\", \"n_clicks\"),\n",
    "    Input(\"date-selector\", \"start_date\"),\n",
    "    Input(\"date-selector\", \"end_date\"),\n",
    ") \n",
    "def update_stocks(stocks, indicator, interval, n_clicks, start_date, end_date):\n",
    "    if n_clicks > 0:\n",
    "        if not stocks:\n",
    "            return html.Div([\n",
    "                html.Br(),\n",
    "                html.H1(\"No stocks selected😢\"),\n",
    "                html.Br(),\n",
    "                html.H1(\"Please select at least one stock to proceed!\")\n",
    "            ])\n",
    "        \n",
    "        stocks_df = pd.DataFrame()\n",
    "        candlestick_figures = []\n",
    "        comparison_fig = go.Figure()\n",
    "        \n",
    "        for stock in stocks:\n",
    "            try:\n",
    "                # Download stock data\n",
    "                data = yf.download(tickers=stock, start=start_date, end=end_date, interval=interval)\n",
    "                \n",
    "                # Add a column to identify the ticker symbol\n",
    "                data[\"ticker\"] = stock\n",
    "                \n",
    "                # Append the data to the DataFrame\n",
    "                stocks_df = pd.concat([stocks_df, data])\n",
    "                \n",
    "                # Create a trace for the selected indicator\n",
    "                comparison_fig.add_trace(go.Scatter(\n",
    "                    x=data.index,\n",
    "                    y=data[indicator],\n",
    "                    mode=\"lines+markers\",\n",
    "                    name=stock\n",
    "                ))\n",
    "                \n",
    "                # Generate a candle stick for each stock\n",
    "                fig = go.Figure(data=[go.Candlestick(\n",
    "                        x=data.index,\n",
    "                        open=data[\"Open\"],\n",
    "                        high=data[\"High\"],\n",
    "                        low=data[\"Low\"],\n",
    "                        close=data[\"Close\"],\n",
    "                        name=stock)])\n",
    "                \n",
    "                fig.update_layout(\n",
    "                    title={\n",
    "                        'text': f'<b>Candlestick Chart for <i>{indicator}</i> of {stock} from {start_date} to {end_date}</b>',\n",
    "                        'y': 0.9,  \n",
    "                        'x': 0.5,\n",
    "                        'xanchor': 'center',\n",
    "                        'yanchor': 'top',\n",
    "                    },\n",
    "                    xaxis_title='Date',\n",
    "                    yaxis_title='Price'\n",
    "                )\n",
    "                candlestick_figures.append(dcc.Graph(figure=fig))\n",
    "\n",
    "            except Exception as e:\n",
    "                print(f\"Error downloading data for {stock}: {e}\")\n",
    "                continue\n",
    "           \n",
    "        comparison_fig.update_layout(\n",
    "            title=f'Comparison of selected stocks based on <b>{indicator}</b>',\n",
    "            xaxis_title='Date',\n",
    "            yaxis_title=indicator\n",
    "        )\n",
    "        \n",
    "        return html.Div([\n",
    "             html.H4(f\"Data for {' | '.join(stocks)}\"),\n",
    "             dcc.Graph(figure=comparison_fig),\n",
    "             *candlestick_figures,\n",
    "        ])\n",
    "    \n",
    "    return \"Select time range, indicator, interval, and stocks, and press Submit.\""
   ]
  },
  {
   "cell_type": "markdown",
   "id": "f9c01f0c",
   "metadata": {},
   "source": [
    "## Run app"
   ]
  },
  {
   "cell_type": "code",
   "execution_count": 827,
   "id": "6b53aa09",
   "metadata": {},
   "outputs": [
    {
     "name": "stdout",
     "output_type": "stream",
     "text": [
      "Dash app running on http://127.0.0.1:8050/\n"
     ]
    }
   ],
   "source": [
    "app.layout = html.Div([\n",
    "    header,\n",
    "    date_selector,\n",
    "    indicator_selector,\n",
    "    interval_selector,\n",
    "    stock_selector\n",
    "],\n",
    "style={\n",
    "    \"margin-left\": '80px', \n",
    "    \"padding\": '50px',\n",
    "    \"display\": \"flex\", \n",
    "    \"flex-direction\": \"column\",\n",
    "    \"gap\": \"2px\"  \n",
    "})\n",
    "\n",
    "# Run app\n",
    "app.run(jupyter_mode=\"external\", debug_mode=True)"
   ]
  }
 ],
 "metadata": {
  "kernelspec": {
   "display_name": "Python 3 (ipykernel)",
   "language": "python",
   "name": "python3"
  },
  "language_info": {
   "codemirror_mode": {
    "name": "ipython",
    "version": 3
   },
   "file_extension": ".py",
   "mimetype": "text/x-python",
   "name": "python",
   "nbconvert_exporter": "python",
   "pygments_lexer": "ipython3",
   "version": "3.11.5"
  }
 },
 "nbformat": 4,
 "nbformat_minor": 5
}
